{
  "cells": [
    {
      "cell_type": "code",
      "execution_count": 2,
      "id": "8603b172",
      "metadata": {
        "id": "8603b172",
        "outputId": "74ca341b-8f5d-4489-9b11-0047c00f0edc"
      },
      "outputs": [
        {
          "name": "stdout",
          "output_type": "stream",
          "text": [
            "MSE: 44843804165715.62\n",
            "RMSE: 6696551.66\n",
            "R²: 0.825887\n",
            "MAE: 3307156.39 рублей\n",
            "Модель сохранена в файл ../models/decision_tree_reg_1.pkl\n"
          ]
        }
      ],
      "source": [
        "import os\n",
        "import pandas as pd\n",
        "import numpy as np\n",
        "from sklearn.model_selection import train_test_split\n",
        "from sklearn.tree import DecisionTreeRegressor\n",
        "from sklearn.metrics import mean_squared_error, r2_score\n",
        "import joblib\n",
        "\n",
        "# Загрузка данных\n",
        "data = pd.read_csv(\"../data/processed/train.csv\")\n",
        "data.columns = data.columns.str.strip()\n",
        "\n",
        "required_cols = ['area', 'total_floors', 'price', 'rooms_1', 'rooms_2', 'rooms_3', 'first_floor', 'last_floor']\n",
        "missing_cols = [col for col in required_cols if col not in data.columns]\n",
        "if missing_cols:\n",
        "    raise KeyError(f\"Отсутствуют необходимые столбцы: {missing_cols}\")\n",
        "\n",
        "X = data[['area', 'total_floors', 'rooms_1', 'rooms_2', 'rooms_3', 'first_floor', 'last_floor']].astype(float)\n",
        "y = data['price']\n",
        "\n",
        "X_train, X_test, y_train, y_test = train_test_split(\n",
        "    X, y, test_size=0.2, random_state=42)\n",
        "\n",
        "model = DecisionTreeRegressor(max_depth=5)\n",
        "model.fit(X_train, y_train)\n",
        "\n",
        "y_pred = model.predict(X_test)\n",
        "\n",
        "mse = mean_squared_error(y_test, y_pred)\n",
        "rmse = np.sqrt(mse)\n",
        "r2 = r2_score(y_test, y_pred)\n",
        "mae = np.mean(np.abs(y_test - y_pred))\n",
        "\n",
        "print(f\"MSE: {mse:.2f}\")\n",
        "print(f\"RMSE: {rmse:.2f}\")\n",
        "print(f\"R²: {r2:.6f}\")\n",
        "print(f\"MAE: {mae:.2f} рублей\")\n",
        "\n",
        "# Создаём директорию для модели, если её нет\n",
        "os.makedirs('../models', exist_ok=True)\n",
        "model_path = '../models/decision_tree_reg_1.pkl'\n",
        "joblib.dump(model, model_path)\n",
        "print(f\"Модель сохранена в файл {model_path}\")\n"
      ]
    }
  ],
  "metadata": {
    "colab": {
      "provenance": []
    },
    "kernelspec": {
      "display_name": ".venv",
      "language": "python",
      "name": "python3"
    },
    "language_info": {
      "codemirror_mode": {
        "name": "ipython",
        "version": 3
      },
      "file_extension": ".py",
      "mimetype": "text/x-python",
      "name": "python",
      "nbconvert_exporter": "python",
      "pygments_lexer": "ipython3",
      "version": "3.13.3"
    }
  },
  "nbformat": 4,
  "nbformat_minor": 5
}
