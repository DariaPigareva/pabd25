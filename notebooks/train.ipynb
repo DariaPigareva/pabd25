{
 "cells": [
  {
   "cell_type": "code",
   "execution_count": 17,
   "id": "8603b172",
   "metadata": {},
   "outputs": [
    {
     "name": "stdout",
     "output_type": "stream",
     "text": [
      "   total_meters     price\n",
      "0          32.0  13590000\n",
      "1          40.1  35500000\n",
      "2          40.0   8490000\n",
      "3          35.1  15950000\n",
      "4          40.0  12700000\n",
      "RMSE на тестовой выборке: 10307437.53\n",
      "R^2 на тестовой выборке: 0.37\n",
      "Модель и scaler сохранены в папку ../models\n"
     ]
    }
   ],
   "source": [
    "\n",
    "import pandas as pd\n",
    "import numpy as np\n",
    "from sklearn.model_selection import train_test_split\n",
    "from sklearn.linear_model import LinearRegression\n",
    "from sklearn.metrics import mean_squared_error, r2_score\n",
    "from sklearn.metrics import root_mean_squared_error\n",
    "from sklearn.preprocessing import StandardScaler\n",
    "import joblib\n",
    "import os\n",
    "\n",
    "# Загрузка данных\n",
    "data = pd.read_csv(\"../data/processed/train.csv\")\n",
    "\n",
    "# Просмотр первых строк\n",
    "print(data.head())\n",
    "\n",
    "# Определяем признаки и целевую переменную\n",
    "# Убедитесь, что 'price' - целевая, а остальные - признаки\n",
    "X = data.drop(columns=['price'])\n",
    "y = data['price']\n",
    "\n",
    "# Масштабируем признаки\n",
    "scaler = StandardScaler()\n",
    "X_scaled = scaler.fit_transform(X)\n",
    "\n",
    "# Разделяем на обучающую и тестовую выборки\n",
    "X_train, X_test, y_train, y_test = train_test_split(\n",
    "    X_scaled, y, test_size=0.2, random_state=42\n",
    ")\n",
    "\n",
    "# Создаём и обучаем модель линейной регрессии\n",
    "model = LinearRegression()\n",
    "model.fit(X_train, y_train)\n",
    "\n",
    "# Предсказания на тесте\n",
    "y_pred = model.predict(X_test)\n",
    "\n",
    "# Оценка модели\n",
    "rmse = root_mean_squared_error(y_test, y_pred)\n",
    "r2 = r2_score(y_test, y_pred)\n",
    "\n",
    "print(f\"RMSE на тестовой выборке: {rmse:.2f}\")\n",
    "print(f\"R^2 на тестовой выборке: {r2:.2f}\")\n",
    "\n",
    "# Сохраняем модель и scaler\n",
    "os.makedirs('../models', exist_ok=True)\n",
    "joblib.dump(model, '../models/linear_regression_model.pkl')\n",
    "joblib.dump(scaler, '../models/scaler.pkl')\n",
    "\n",
    "print(\"Модель и scaler сохранены в папку ../models\")\n"
   ]
  },
  {
   "cell_type": "code",
   "execution_count": 18,
   "id": "ff287bb2",
   "metadata": {},
   "outputs": [
    {
     "name": "stdout",
     "output_type": "stream",
     "text": [
      "Среднеквадратичная ошибка (MSE): 106243268522256.20\n",
      "Корень из среднеквадратичной ошибки (RMSE): 10307437.53\n",
      "Коэффициент детерминации R²: 0.368376\n",
      "Средняя ошибка предсказания: 7098082.11 рублей\n",
      "Коэффициент при площади: 8033621.36\n",
      "Свободный член: 17736096.29\n"
     ]
    }
   ],
   "source": [
    "\n",
    "# Стандартизация признака\n",
    "scaler = StandardScaler()\n",
    "data['total_meters'] = scaler.fit_transform(data[['total_meters']])\n",
    "\n",
    "# Разделение на признаки и целевую переменную\n",
    "X = data[['total_meters']]  # только один признак - площадь\n",
    "y = data['price']\n",
    "\n",
    "# Разделение на тренировочную и тестовую выборки\n",
    "X_train, X_test, y_train, y_test = train_test_split(\n",
    "    X, y, test_size=0.2, random_state=42)\n",
    "\n",
    "# Создание и обучение модели\n",
    "model = LinearRegression()\n",
    "model.fit(X_train, y_train)\n",
    "\n",
    "# Предсказание на тестовой выборке\n",
    "y_pred = model.predict(X_test)\n",
    "\n",
    "# Оценка модели\n",
    "mse = mean_squared_error(y_test, y_pred)\n",
    "rmse = np.sqrt(mse)\n",
    "r2 = r2_score(y_test, y_pred)\n",
    "\n",
    "# Вывод метрик качества\n",
    "# todo: use logging\n",
    "print(f\"Среднеквадратичная ошибка (MSE): {mse:.2f}\")\n",
    "print(f\"Корень из среднеквадратичной ошибки (RMSE): {rmse:.2f}\")\n",
    "print(f\"Коэффициент детерминации R²: {r2:.6f}\")\n",
    "print(f\"Средняя ошибка предсказания: {np.mean(np.abs(y_test - y_pred)):.2f} рублей\")\n",
    "\n",
    "# Коэффициенты модели\n",
    "print(f\"Коэффициент при площади: {model.coef_[0]:.2f}\")\n",
    "print(f\"Свободный член: {model.intercept_:.2f}\")\n"
   ]
  },
  {
   "cell_type": "code",
   "execution_count": null,
   "id": "1c923b3e",
   "metadata": {},
   "outputs": [],
   "source": [
    "import joblib\n",
    "# Сохранение модели\n",
    "model_path = '../models/linear_regression_model.pkl'\n",
    "\n",
    "joblib.dump(model, model_path)\n",
    "print(\"Модель сохранена в файл f{model_path}\")\n",
    "\n",
    "# Загрузка модели\n",
    "loaded_model = joblib.load(model_path)\n",
    "print(\"Модель загружена из файла\")"
   ]
  }
 ],
 "metadata": {
  "kernelspec": {
   "display_name": ".venv",
   "language": "python",
   "name": "python3"
  },
  "language_info": {
   "codemirror_mode": {
    "name": "ipython",
    "version": 3
   },
   "file_extension": ".py",
   "mimetype": "text/x-python",
   "name": "python",
   "nbconvert_exporter": "python",
   "pygments_lexer": "ipython3",
   "version": "3.11.11"
  }
 },
 "nbformat": 4,
 "nbformat_minor": 5
}
