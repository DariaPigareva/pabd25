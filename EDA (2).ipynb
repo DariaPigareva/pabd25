{
  "cells": [
    {
      "cell_type": "code",
      "execution_count": null,
      "id": "c10520b6-d44f-486e-8648-cbd8da9af76e",
      "metadata": {
        "id": "c10520b6-d44f-486e-8648-cbd8da9af76e"
      },
      "outputs": [],
      "source": [
        "import pandas as pd\n",
        "import glob\n",
        "import matplotlib.pyplot as plt\n",
        "import numpy as np\n",
        "\n",
        "raw_data_path = '../data/raw'\n",
        "file_list = glob.glob(raw_data_path + \"/*.csv\")\n",
        "\n",
        "main_dataframe = pd.read_csv(file_list[0])\n",
        "for i in range(1, len(file_list)):\n",
        "    data = pd.read_csv(file_list[i])\n",
        "    df = pd.DataFrame(data)\n",
        "    main_dataframe = pd.concat([main_dataframe, df], axis=0)\n",
        "\n",
        "main_dataframe['url_id'] = main_dataframe['url'].map(lambda x: x.split('/')[-2])\n",
        "new_dataframe = main_dataframe[['url_id', 'total_meters', 'price']].set_index('url_id')\n",
        "new_dataframe['price'].hist()\n",
        "new_df = new_dataframe[new_dataframe['price'] < 100_000_000]\n",
        "new_df = new_df[new_df['total_meters'] < 100]\n",
        "\n",
        "x = new_df['total_meters']\n",
        "y = new_df['price']\n",
        "\n",
        "plt.plot(x, y, 'o')\n",
        "\n",
        "#obtain m (slope) and b(intercept) of linear regression line\n",
        "m, b = np.polyfit(x, y, 1)\n",
        "\n",
        "#add linear regression line to scatterplot\n",
        "plt.plot(x, m*x+b)\n",
        "\n",
        "new_df.to_csv('../data/processed/train.csv', index=False)"
      ]
    }
  ],
  "metadata": {
    "kernelspec": {
      "display_name": "Python 3 (ipykernel)",
      "language": "python",
      "name": "python3"
    },
    "language_info": {
      "codemirror_mode": {
        "name": "ipython",
        "version": 3
      },
      "file_extension": ".py",
      "mimetype": "text/x-python",
      "name": "python",
      "nbconvert_exporter": "python",
      "pygments_lexer": "ipython3",
      "version": "3.11.3"
    },
    "colab": {
      "provenance": []
    }
  },
  "nbformat": 4,
  "nbformat_minor": 5
}